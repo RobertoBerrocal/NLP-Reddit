{
 "cells": [
  {
   "cell_type": "markdown",
   "metadata": {},
   "source": [
    "<h1>Sentiment Analysis and Text Classification on Reddit Comments</h1>\n",
    "<h2>Problem definition</h2>\n",
    "<p>Analyzing comments in social media platforms like Reddit. Reddit offers a free API which provides rich text data on how people perceive topics of interest.</p>\n",
    "<p>For this project, the goal is to classify Reddit comments in the sub reddit &ldquo;anime&rdquo; and the topic &ldquo;hunter x hunter&rdquo; into positive or negative sentiments.</p>\n",
    "<p>After adding label to each comment using a pre-trained model named \"Pysentimiento\", a text classification model will be created. In the end a evaluation of metrics will be included</p>\n",
    "<p>This problem is framed as a &ldquo;Sentiment Analysis and Text Classification&rdquo; task using NLP techniques to label a comment as positive or negative.</p>\n"
   ]
  },
  {
   "cell_type": "markdown",
   "metadata": {},
   "source": [
    "<h2>Sentiment Analysis and Text Classification Pipeline</h2>\n",
    "<p>The pipeline consists of the following components:</p>\n",
    "<ol style=\"font-size: 20px;\">\n",
    "    <li>Data collection:\n",
    "        <ol style=\"list-style-type: lower-alpha; font-size: 18px;\">\n",
    "            <li>Connect to the Reddit API using &ldquo;praw&rdquo; to extract comments related to a specific subreddit and topic.</li>\n",
    "            <li>Store the extracted comments in a dataframe.</li>\n",
    "        </ol>\n",
    "    </li>\n",
    "    <li>Data preprocessing:\n",
    "        <ol style=\"list-style-type: lower-alpha; font-size: 18px;\">\n",
    "            <li>Clean the comments:\n",
    "                <ol style=\"list-style-type: lower-roman; font-size: 16px;\">\n",
    "                    <li>Removing URLs</li>\n",
    "                    <li>Removing special characters and numbers</li>\n",
    "                    <li>Convert to lower case</li>\n",
    "                    <li>Tokenize</li>\n",
    "                    <li>Remove stop words</li>\n",
    "                    <li>Lemmatization</li>\n",
    "                </ol>\n",
    "            </li>\n",
    "            <li>Create a column called \"processed_comment_body\" with the cleaned text</li>\n",
    "        </ol>\n",
    "    </li>\n",
    "</ol>\n",
    "<ol start=\"3\" style=\"font-size: 20px;\">\n",
    "    <li>Data Labeling:\n",
    "        <ol style=\"list-style-type: lower-alpha; font-size: 18px;\">\n",
    "            <li>Use &ldquo;pysentimiento&rdquo; to label the comments as (POS: positive, NEU: neutral, NEG: negative).</li>\n",
    "            <li>Create a label column named &ldquo;output&rdquo; that contains the label using pysentimiento</li>\n",
    "            <li>Drop the rows labeled as &ldquo;NEU&rdquo; (neutral) and convert the positive ones into 1 and the negative ones into 0.</li>\n",
    "        </ol>\n",
    "    </li>\n",
    "    <li>Modelling:\n",
    "        <ol style=\"list-style-type: lower-alpha; font-size: 18px;\">\n",
    "            <li>Machine learning:\n",
    "                <ol style=\"list-style-type: lower-roman; font-size: 16px;\">\n",
    "                    <li>Create a Random Forest classifier using SMOTE techniques to balance the target classes.</li>\n",
    "                </ol>\n",
    "            </li>\n",
    "            <li>Deep Learning:\n",
    "                <ol style=\"list-style-type: lower-roman; font-size: 16px;\">\n",
    "                    <li>Implement a LSTM-based model with embeddings for a better semantic performance.</li>\n",
    "                </ol>\n",
    "            </li>\n",
    "        </ol>\n",
    "    </li>\n",
    "    <li>Evaluation:\n",
    "        <ol style=\"list-style-type: lower-alpha; font-size: 18px;\">\n",
    "            <li>Evaluate models using the following metrics:\n",
    "                <ol style=\"list-style-type: lower-roman; font-size: 16px;\">\n",
    "                    <li>Precision</li>\n",
    "                    <li>Recall</li>\n",
    "                    <li>F1-Score</li>\n",
    "                    <li>Confusion Matrix</li>\n",
    "                </ol>\n",
    "            </li>\n",
    "            <li>Compare the performances between Random Forest and Deep Learning (LSTM based)</li>\n",
    "        </ol>\n",
    "    </li>\n",
    "</ol>\n",
    "<ol start=\"6\" style=\"font-size: 20px;\">\n",
    "    <li>Pipeline Summary:</li>\n",
    "</ol>\n",
    "<h3>Data Collection -&gt; Preprocessing -&gt; Labeling -&gt; Modelling -&gt; Evaluation</h3>\n"
   ]
  },
  {
   "cell_type": "markdown",
   "metadata": {},
   "source": [
    "#### Libraries and Packages\n"
   ]
  },
  {
   "cell_type": "code",
   "execution_count": null,
   "metadata": {},
   "outputs": [],
   "source": [
    "import pandas as pd\n",
    "import numpy as np\n",
    "import matplotlib.pyplot as plt\n",
    "import seaborn as sns\n",
    "import praw\n",
    "import re\n",
    "import nltk\n",
    "from nltk.corpus import stopwords\n",
    "from nltk.tokenize import word_tokenize\n",
    "from nltk.stem import WordNetLemmatizer\n",
    "from pysentimiento import create_analyzer\n",
    "from imblearn.over_sampling import SMOTE\n",
    "from sklearn.model_selection import train_test_split\n",
    "from sklearn.feature_extraction.text import TfidfVectorizer\n",
    "from sklearn.ensemble import RandomForestClassifier\n",
    "from sklearn.metrics import classification_report, confusion_matrix\n",
    "from sklearn.model_selection import train_test_split\n",
    "from tensorflow.keras.preprocessing.text import Tokenizer\n",
    "from tensorflow.keras.preprocessing.sequence import pad_sequences\n",
    "from tensorflow.keras.models import Sequential\n",
    "from tensorflow.keras.layers import Embedding, Dense, Dropout, LSTM, Bidirectional\n",
    "from tensorflow.keras.optimizers import Adam"
   ]
  },
  {
   "cell_type": "markdown",
   "metadata": {},
   "source": [
    "#### Data collection\n"
   ]
  },
  {
   "cell_type": "markdown",
   "metadata": {},
   "source": [
    "<p>To get the secrets to connect to Reddit API, some process needs to be done. Consult this <a href=\"https://praw.readthedocs.io/en/latest/index.html\">link</a> where all the documentation and information regarding &ldquo;praw&rdquo; is available.</p>\n"
   ]
  },
  {
   "cell_type": "code",
   "execution_count": null,
   "metadata": {},
   "outputs": [],
   "source": [
    "user_agent = \"Pyscraper 1.0 by /u/Due_Sand_8938\"\n",
    "client_id = \"lI7rbjuiFhTvw7AtOaengA\"\n",
    "client_secret = \"jTEZzqXh8BnVd8uqllu7jI1udh5HKg\"\n",
    "\n",
    "reddit = praw.Reddit(\n",
    "    client_id=client_id,\n",
    "    client_secret=client_secret,\n",
    "    user_agent=user_agent,\n",
    ")"
   ]
  },
  {
   "cell_type": "markdown",
   "metadata": {},
   "source": [
    "The following function: subreddit_to_dataset is defined to obtain a dataset with comments related to a specific topic within a subreddit.\n"
   ]
  },
  {
   "cell_type": "code",
   "execution_count": null,
   "metadata": {},
   "outputs": [],
   "source": [
    "def subreddit_to_dataset(subredditName, topicName, limitePosts=10):\n",
    "    comments_data = []\n",
    "    for submission in reddit.subreddit(subredditName).search(topicName, limit=limitePosts, sort=\"top\"):\n",
    "        submission.comments.replace_more(limit=0)\n",
    "        for comment in submission.comments.list():\n",
    "            comments_data.append({\n",
    "                \"post_id\": submission.id,\n",
    "                \"post_title\": submission.title,\n",
    "                \"post_created_utc\" : submission.created_utc,\n",
    "                \"post_num_comments\" : submission.num_comments,\n",
    "                \"comment_id\": comment.id,\n",
    "                \"comment_body\": comment.body,\n",
    "                \"comment_author\": str(comment.author),\n",
    "                \"comment_score\": comment.score,\n",
    "                \"comment_created_utc\": comment.created_utc\n",
    "            })\n",
    "\n",
    "    df_comments = pd.DataFrame(comments_data)\n",
    "    return df_comments"
   ]
  },
  {
   "cell_type": "markdown",
   "metadata": {},
   "source": [
    "The subreddit chosen is \"anime\". The anime community in Reddit is very big and a lot of text information can be found there. In particular, this project will focus on \"hunter x hunter\" one of the most popular animes ever.\n"
   ]
  },
  {
   "cell_type": "code",
   "execution_count": null,
   "metadata": {},
   "outputs": [],
   "source": [
    "subreddit_name = \"anime\"\n",
    "topic_name = \"hunter x hunter\""
   ]
  },
  {
   "cell_type": "code",
   "execution_count": null,
   "metadata": {},
   "outputs": [],
   "source": [
    "df = subreddit_to_dataset(subredditName=subreddit_name, topicName=topic_name, limitePosts=50)"
   ]
  },
  {
   "cell_type": "code",
   "execution_count": 9,
   "metadata": {},
   "outputs": [
    {
     "data": {
      "text/plain": [
       "(15121, 2)"
      ]
     },
     "execution_count": 9,
     "metadata": {},
     "output_type": "execute_result"
    }
   ],
   "source": [
    "df.shape"
   ]
  },
  {
   "cell_type": "code",
   "execution_count": 8,
   "metadata": {},
   "outputs": [],
   "source": [
    "df = df[['comment_id', 'comment_body']]"
   ]
  },
  {
   "cell_type": "code",
   "execution_count": 10,
   "metadata": {},
   "outputs": [
    {
     "data": {
      "text/html": [
       "<div>\n",
       "<style scoped>\n",
       "    .dataframe tbody tr th:only-of-type {\n",
       "        vertical-align: middle;\n",
       "    }\n",
       "\n",
       "    .dataframe tbody tr th {\n",
       "        vertical-align: top;\n",
       "    }\n",
       "\n",
       "    .dataframe thead th {\n",
       "        text-align: right;\n",
       "    }\n",
       "</style>\n",
       "<table border=\"1\" class=\"dataframe\">\n",
       "  <thead>\n",
       "    <tr style=\"text-align: right;\">\n",
       "      <th></th>\n",
       "      <th>comment_id</th>\n",
       "      <th>comment_body</th>\n",
       "    </tr>\n",
       "  </thead>\n",
       "  <tbody>\n",
       "    <tr>\n",
       "      <th>0</th>\n",
       "      <td>ldtcd1x</td>\n",
       "      <td>I remember the first one got absolutely evisce...</td>\n",
       "    </tr>\n",
       "    <tr>\n",
       "      <th>1</th>\n",
       "      <td>ldtdi0t</td>\n",
       "      <td>Feels like everyone wants to make beginner cha...</td>\n",
       "    </tr>\n",
       "    <tr>\n",
       "      <th>2</th>\n",
       "      <td>ldtm86n</td>\n",
       "      <td>So many people putting Bocchi into SoL when it...</td>\n",
       "    </tr>\n",
       "    <tr>\n",
       "      <th>3</th>\n",
       "      <td>ldtfa1a</td>\n",
       "      <td>Any anime can be a beginner anime if it’s the ...</td>\n",
       "    </tr>\n",
       "    <tr>\n",
       "      <th>4</th>\n",
       "      <td>ldtjvas</td>\n",
       "      <td>I wish they animated more of Black Lagoon.</td>\n",
       "    </tr>\n",
       "  </tbody>\n",
       "</table>\n",
       "</div>"
      ],
      "text/plain": [
       "  comment_id                                       comment_body\n",
       "0    ldtcd1x  I remember the first one got absolutely evisce...\n",
       "1    ldtdi0t  Feels like everyone wants to make beginner cha...\n",
       "2    ldtm86n  So many people putting Bocchi into SoL when it...\n",
       "3    ldtfa1a  Any anime can be a beginner anime if it’s the ...\n",
       "4    ldtjvas         I wish they animated more of Black Lagoon."
      ]
     },
     "execution_count": 10,
     "metadata": {},
     "output_type": "execute_result"
    }
   ],
   "source": [
    "df.head()"
   ]
  },
  {
   "cell_type": "markdown",
   "metadata": {},
   "source": [
    "#### Data Preprocessing\n"
   ]
  },
  {
   "cell_type": "code",
   "execution_count": null,
   "metadata": {},
   "outputs": [
    {
     "name": "stderr",
     "output_type": "stream",
     "text": [
      "[nltk_data] Downloading package punkt_tab to\n",
      "[nltk_data]     /Users/robertoberrocal/nltk_data...\n",
      "[nltk_data]   Package punkt_tab is already up-to-date!\n"
     ]
    }
   ],
   "source": [
    "nltk.download('punkt')\n",
    "nltk.download('punkt_tab')\n",
    "nltk.download('stopwords')\n",
    "nltk.download('wordnet')\n",
    "\n",
    "stop_words = set(stopwords.words('english'))\n",
    "\n",
    "lemmatizer = WordNetLemmatizer()"
   ]
  },
  {
   "cell_type": "markdown",
   "metadata": {},
   "source": [
    "The following fuction: preprocess_text is defined to preprocess the text data, covering steps like: removing urls, remove special characters, remove numbers, convert text to lower case, remove stop words in English and apply lemmatization\n"
   ]
  },
  {
   "cell_type": "code",
   "execution_count": null,
   "metadata": {},
   "outputs": [],
   "source": [
    "def preprocess_text(text):\n",
    "    text = re.sub(r'http\\S+|www\\S+|https\\S+', '', text, flags=re.MULTILINE)\n",
    "    text = re.sub(r'\\W+|\\d+', ' ', text)\n",
    "    text = text.lower()\n",
    "    tokens = word_tokenize(text)\n",
    "    tokens = [word for word in tokens if word not in stop_words]\n",
    "    tokens = [lemmatizer.lemmatize(word) for word in tokens]\n",
    "    \n",
    "    return ' '.join(tokens)"
   ]
  },
  {
   "cell_type": "code",
   "execution_count": null,
   "metadata": {},
   "outputs": [
    {
     "name": "stderr",
     "output_type": "stream",
     "text": [
      "/var/folders/wh/t4t79wp51pq2p1t_bfnc30t80000gn/T/ipykernel_73036/1892080687.py:2: SettingWithCopyWarning: \n",
      "A value is trying to be set on a copy of a slice from a DataFrame.\n",
      "Try using .loc[row_indexer,col_indexer] = value instead\n",
      "\n",
      "See the caveats in the documentation: https://pandas.pydata.org/pandas-docs/stable/user_guide/indexing.html#returning-a-view-versus-a-copy\n",
      "  df['processed_comment_body'] = df['comment_body'].apply(preprocess_text)\n"
     ]
    },
    {
     "data": {
      "text/html": [
       "<div>\n",
       "<style scoped>\n",
       "    .dataframe tbody tr th:only-of-type {\n",
       "        vertical-align: middle;\n",
       "    }\n",
       "\n",
       "    .dataframe tbody tr th {\n",
       "        vertical-align: top;\n",
       "    }\n",
       "\n",
       "    .dataframe thead th {\n",
       "        text-align: right;\n",
       "    }\n",
       "</style>\n",
       "<table border=\"1\" class=\"dataframe\">\n",
       "  <thead>\n",
       "    <tr style=\"text-align: right;\">\n",
       "      <th></th>\n",
       "      <th>comment_id</th>\n",
       "      <th>comment_body</th>\n",
       "      <th>processed_comment_body</th>\n",
       "    </tr>\n",
       "  </thead>\n",
       "  <tbody>\n",
       "    <tr>\n",
       "      <th>0</th>\n",
       "      <td>ldtcd1x</td>\n",
       "      <td>I remember the first one got absolutely evisce...</td>\n",
       "      <td>remember first one got absolutely eviscerated lol</td>\n",
       "    </tr>\n",
       "    <tr>\n",
       "      <th>1</th>\n",
       "      <td>ldtdi0t</td>\n",
       "      <td>Feels like everyone wants to make beginner cha...</td>\n",
       "      <td>feel like everyone want make beginner chart on...</td>\n",
       "    </tr>\n",
       "    <tr>\n",
       "      <th>2</th>\n",
       "      <td>ldtm86n</td>\n",
       "      <td>So many people putting Bocchi into SoL when it...</td>\n",
       "      <td>many people putting bocchi sol primary genre c...</td>\n",
       "    </tr>\n",
       "    <tr>\n",
       "      <th>3</th>\n",
       "      <td>ldtfa1a</td>\n",
       "      <td>Any anime can be a beginner anime if it’s the ...</td>\n",
       "      <td>anime beginner anime first one watch</td>\n",
       "    </tr>\n",
       "    <tr>\n",
       "      <th>4</th>\n",
       "      <td>ldtjvas</td>\n",
       "      <td>I wish they animated more of Black Lagoon.</td>\n",
       "      <td>wish animated black lagoon</td>\n",
       "    </tr>\n",
       "  </tbody>\n",
       "</table>\n",
       "</div>"
      ],
      "text/plain": [
       "  comment_id                                       comment_body  \\\n",
       "0    ldtcd1x  I remember the first one got absolutely evisce...   \n",
       "1    ldtdi0t  Feels like everyone wants to make beginner cha...   \n",
       "2    ldtm86n  So many people putting Bocchi into SoL when it...   \n",
       "3    ldtfa1a  Any anime can be a beginner anime if it’s the ...   \n",
       "4    ldtjvas         I wish they animated more of Black Lagoon.   \n",
       "\n",
       "                              processed_comment_body  \n",
       "0  remember first one got absolutely eviscerated lol  \n",
       "1  feel like everyone want make beginner chart on...  \n",
       "2  many people putting bocchi sol primary genre c...  \n",
       "3               anime beginner anime first one watch  \n",
       "4                         wish animated black lagoon  "
      ]
     },
     "execution_count": 14,
     "metadata": {},
     "output_type": "execute_result"
    }
   ],
   "source": [
    "df['processed_comment_body'] = df['comment_body'].apply(preprocess_text)\n",
    "\n",
    "df.head()"
   ]
  },
  {
   "cell_type": "markdown",
   "metadata": {},
   "source": [
    "#### Data Labeling\n"
   ]
  },
  {
   "cell_type": "code",
   "execution_count": null,
   "metadata": {},
   "outputs": [],
   "source": [
    "analyzer = create_analyzer(task=\"sentiment\", lang=\"en\", tqdm_bar=False)"
   ]
  },
  {
   "cell_type": "code",
   "execution_count": 16,
   "metadata": {},
   "outputs": [
    {
     "name": "stderr",
     "output_type": "stream",
     "text": [
      "/var/folders/wh/t4t79wp51pq2p1t_bfnc30t80000gn/T/ipykernel_73036/3416406285.py:1: SettingWithCopyWarning: \n",
      "A value is trying to be set on a copy of a slice from a DataFrame.\n",
      "Try using .loc[row_indexer,col_indexer] = value instead\n",
      "\n",
      "See the caveats in the documentation: https://pandas.pydata.org/pandas-docs/stable/user_guide/indexing.html#returning-a-view-versus-a-copy\n",
      "  df['output'] = df['processed_comment_body'].apply(lambda x: analyzer.predict(x).output)\n"
     ]
    }
   ],
   "source": [
    "df['output'] = df['processed_comment_body'].apply(lambda x: analyzer.predict(x).output)"
   ]
  },
  {
   "cell_type": "code",
   "execution_count": null,
   "metadata": {},
   "outputs": [
    {
     "data": {
      "image/png": "[encoded data removed]",
      "text/plain": [
       "<Figure size 800x600 with 1 Axes>"
      ]
     },
     "metadata": {},
     "output_type": "display_data"
    }
   ],
   "source": [
    "sentiment_counts = df['output'].value_counts()\n",
    "\n",
    "plt.figure(figsize=(8, 6))\n",
    "sentiment_counts.plot(kind='bar')\n",
    "plt.title('Distribution of Sentiment Labels')\n",
    "plt.xlabel('Sentiment')\n",
    "plt.ylabel('Number of Comments')\n",
    "plt.xticks(rotation=0)\n",
    "plt.grid(axis='y', linestyle='--', alpha=0.7)\n",
    "plt.show()"
   ]
  },
  {
   "cell_type": "code",
   "execution_count": 20,
   "metadata": {},
   "outputs": [
    {
     "data": {
      "text/plain": [
       "output\n",
       "NEU    8790\n",
       "POS    3881\n",
       "NEG    2450\n",
       "Name: count, dtype: int64"
      ]
     },
     "execution_count": 20,
     "metadata": {},
     "output_type": "execute_result"
    }
   ],
   "source": [
    "df['output'].value_counts()"
   ]
  },
  {
   "cell_type": "markdown",
   "metadata": {},
   "source": [
    "Take the decision to drop the \"NEU\" class, to work only with the \"POS\" and \"NEG\" classes. After that, label \"POS\" class as 1 and \"NEG\" class as 0\n"
   ]
  },
  {
   "cell_type": "code",
   "execution_count": null,
   "metadata": {},
   "outputs": [],
   "source": [
    "df_binary = df[df['output'] != 'NEU']"
   ]
  },
  {
   "cell_type": "code",
   "execution_count": 22,
   "metadata": {},
   "outputs": [
    {
     "name": "stderr",
     "output_type": "stream",
     "text": [
      "/var/folders/wh/t4t79wp51pq2p1t_bfnc30t80000gn/T/ipykernel_73036/1776690980.py:1: SettingWithCopyWarning: \n",
      "A value is trying to be set on a copy of a slice from a DataFrame.\n",
      "Try using .loc[row_indexer,col_indexer] = value instead\n",
      "\n",
      "See the caveats in the documentation: https://pandas.pydata.org/pandas-docs/stable/user_guide/indexing.html#returning-a-view-versus-a-copy\n",
      "  df_binary['output'] = df_binary['output'].apply(lambda x: 1 if x == 'POS' else 0)\n"
     ]
    }
   ],
   "source": [
    "df_binary['output'] = df_binary['output'].apply(lambda x: 1 if x == 'POS' else 0)"
   ]
  },
  {
   "cell_type": "code",
   "execution_count": 23,
   "metadata": {},
   "outputs": [
    {
     "data": {
      "text/plain": [
       "output\n",
       "1    3881\n",
       "0    2450\n",
       "Name: count, dtype: int64"
      ]
     },
     "execution_count": 23,
     "metadata": {},
     "output_type": "execute_result"
    }
   ],
   "source": [
    "df_binary['output'].value_counts()"
   ]
  },
  {
   "cell_type": "markdown",
   "metadata": {},
   "source": [
    "The dataframe is converted into a .csv file to avoid requesting to the Reddit API each time this notebook is run\n"
   ]
  },
  {
   "cell_type": "code",
   "execution_count": 25,
   "metadata": {},
   "outputs": [],
   "source": [
    "df_binary.to_csv(\"hunter_x_hunter_comments_with_sentiment.csv\", index=False)"
   ]
  },
  {
   "cell_type": "code",
   "execution_count": 27,
   "metadata": {},
   "outputs": [
    {
     "data": {
      "text/html": [
       "<div>\n",
       "<style scoped>\n",
       "    .dataframe tbody tr th:only-of-type {\n",
       "        vertical-align: middle;\n",
       "    }\n",
       "\n",
       "    .dataframe tbody tr th {\n",
       "        vertical-align: top;\n",
       "    }\n",
       "\n",
       "    .dataframe thead th {\n",
       "        text-align: right;\n",
       "    }\n",
       "</style>\n",
       "<table border=\"1\" class=\"dataframe\">\n",
       "  <thead>\n",
       "    <tr style=\"text-align: right;\">\n",
       "      <th></th>\n",
       "      <th>comment_id</th>\n",
       "      <th>comment_body</th>\n",
       "      <th>processed_comment_body</th>\n",
       "      <th>output</th>\n",
       "    </tr>\n",
       "  </thead>\n",
       "  <tbody>\n",
       "    <tr>\n",
       "      <th>6</th>\n",
       "      <td>ldtfetl</td>\n",
       "      <td>I don’t feel it is particularly safe to recomm...</td>\n",
       "      <td>feel particularly safe recommend pure fun anim...</td>\n",
       "      <td>1</td>\n",
       "    </tr>\n",
       "    <tr>\n",
       "      <th>7</th>\n",
       "      <td>ldtu1fn</td>\n",
       "      <td>Not a bad list, but there are far too many unf...</td>\n",
       "      <td>bad list far many unfinished show imo think de...</td>\n",
       "      <td>0</td>\n",
       "    </tr>\n",
       "    <tr>\n",
       "      <th>8</th>\n",
       "      <td>ldtfux0</td>\n",
       "      <td>Nozaki is interesting. I feel like it's probab...</td>\n",
       "      <td>nozaki interesting feel like probably better a...</td>\n",
       "      <td>1</td>\n",
       "    </tr>\n",
       "    <tr>\n",
       "      <th>9</th>\n",
       "      <td>ldts9t9</td>\n",
       "      <td>No Silent Voice in drama? Other than that most...</td>\n",
       "      <td>silent voice drama mostly great list</td>\n",
       "      <td>1</td>\n",
       "    </tr>\n",
       "    <tr>\n",
       "      <th>13</th>\n",
       "      <td>ldtk14j</td>\n",
       "      <td>I'm sorry, I know everyone here is very nostal...</td>\n",
       "      <td>sorry know everyone nostalgic toradora love sh...</td>\n",
       "      <td>0</td>\n",
       "    </tr>\n",
       "  </tbody>\n",
       "</table>\n",
       "</div>"
      ],
      "text/plain": [
       "   comment_id                                       comment_body  \\\n",
       "6     ldtfetl  I don’t feel it is particularly safe to recomm...   \n",
       "7     ldtu1fn  Not a bad list, but there are far too many unf...   \n",
       "8     ldtfux0  Nozaki is interesting. I feel like it's probab...   \n",
       "9     ldts9t9  No Silent Voice in drama? Other than that most...   \n",
       "13    ldtk14j  I'm sorry, I know everyone here is very nostal...   \n",
       "\n",
       "                               processed_comment_body  output  \n",
       "6   feel particularly safe recommend pure fun anim...       1  \n",
       "7   bad list far many unfinished show imo think de...       0  \n",
       "8   nozaki interesting feel like probably better a...       1  \n",
       "9                silent voice drama mostly great list       1  \n",
       "13  sorry know everyone nostalgic toradora love sh...       0  "
      ]
     },
     "execution_count": 27,
     "metadata": {},
     "output_type": "execute_result"
    }
   ],
   "source": [
    "df_binary.head()"
   ]
  },
  {
   "cell_type": "markdown",
   "metadata": {},
   "source": [
    "#### Modelling\n"
   ]
  },
  {
   "cell_type": "markdown",
   "metadata": {},
   "source": [
    "##### Random Forest\n"
   ]
  },
  {
   "cell_type": "code",
   "execution_count": null,
   "metadata": {},
   "outputs": [],
   "source": [
    "X = df_binary['processed_comment_body']\n",
    "y = df_binary['output']\n",
    "\n",
    "X_train, X_test, y_train_rf, y_test_rf = train_test_split(X, y, test_size=0.2, random_state=42)"
   ]
  },
  {
   "cell_type": "markdown",
   "metadata": {},
   "source": [
    "When working with text data, is important to convert it into numerical variables. TF-IDF is used here\n"
   ]
  },
  {
   "cell_type": "code",
   "execution_count": null,
   "metadata": {},
   "outputs": [],
   "source": [
    "tfidf_vectorizer = TfidfVectorizer(max_features=5000)\n",
    "X_train_tfidf = tfidf_vectorizer.fit_transform(X_train)\n",
    "X_test_tfidf = tfidf_vectorizer.transform(X_test)"
   ]
  },
  {
   "cell_type": "markdown",
   "metadata": {},
   "source": [
    "In the chart above, excluding the \"NEU\" class, is noticeable that the dataset contains more \"POS\" comments than \"NEG\". So, SMOTE technique will be applied to balance both classes\n"
   ]
  },
  {
   "cell_type": "code",
   "execution_count": null,
   "metadata": {},
   "outputs": [
    {
     "name": "stderr",
     "output_type": "stream",
     "text": [
      "/opt/anaconda3/envs/nlp_env/lib/python3.12/site-packages/sklearn/base.py:474: FutureWarning: `BaseEstimator._validate_data` is deprecated in 1.6 and will be removed in 1.7. Use `sklearn.utils.validation.validate_data` instead. This function becomes public and is part of the scikit-learn developer API.\n",
      "  warnings.warn(\n",
      "/opt/anaconda3/envs/nlp_env/lib/python3.12/site-packages/sklearn/utils/_tags.py:354: FutureWarning: The SMOTE or classes from which it inherits use `_get_tags` and `_more_tags`. Please define the `__sklearn_tags__` method, or inherit from `sklearn.base.BaseEstimator` and/or other appropriate mixins such as `sklearn.base.TransformerMixin`, `sklearn.base.ClassifierMixin`, `sklearn.base.RegressorMixin`, and `sklearn.base.OutlierMixin`. From scikit-learn 1.7, not defining `__sklearn_tags__` will raise an error.\n",
      "  warnings.warn(\n"
     ]
    }
   ],
   "source": [
    "smote = SMOTE(random_state=42)\n",
    "X_train_balanced, y_train_balanced = smote.fit_resample(X_train_tfidf, y_train_rf)"
   ]
  },
  {
   "cell_type": "code",
   "execution_count": null,
   "metadata": {},
   "outputs": [],
   "source": [
    "random_forest_model = RandomForestClassifier(n_estimators=100, random_state=42)\n",
    "random_forest_model.fit(X_train_balanced, y_train_balanced)\n",
    "\n",
    "y_pred_rf = random_forest_model.predict(X_test_tfidf)"
   ]
  },
  {
   "cell_type": "code",
   "execution_count": 67,
   "metadata": {},
   "outputs": [
    {
     "name": "stdout",
     "output_type": "stream",
     "text": [
      "Classification Report - Random Forest Model:\n",
      "              precision    recall  f1-score   support\n",
      "\n",
      "           0       0.82      0.74      0.78       484\n",
      "           1       0.85      0.90      0.87       783\n",
      "\n",
      "    accuracy                           0.84      1267\n",
      "   macro avg       0.84      0.82      0.83      1267\n",
      "weighted avg       0.84      0.84      0.84      1267\n",
      "\n",
      "\n",
      "Confusion Matrix - Random Forest Model:\n",
      "[[360 124]\n",
      " [ 78 705]]\n"
     ]
    }
   ],
   "source": [
    "classification_rep = classification_report(y_test_rf, y_pred_rf)\n",
    "confusion_mat = confusion_matrix(y_test_rf, y_pred_rf)\n",
    "\n",
    "print(\"Classification Report - Random Forest Model:\")\n",
    "print(classification_rep)\n",
    "print(\"\\nConfusion Matrix - Random Forest Model:\")\n",
    "print(confusion_mat)"
   ]
  },
  {
   "cell_type": "markdown",
   "metadata": {},
   "source": [
    "##### LSTM Neural Network\n"
   ]
  },
  {
   "cell_type": "markdown",
   "metadata": {},
   "source": [
    "For this LSTM Neural network model, after splitting data into train and test, text data is tokenized and converted into sequences\n"
   ]
  },
  {
   "cell_type": "code",
   "execution_count": null,
   "metadata": {},
   "outputs": [],
   "source": [
    "X = df_binary['processed_comment_body']\n",
    "y = df_binary['output'].values\n",
    "\n",
    "X_train, X_test, y_train_lstm, y_test_lstm = train_test_split(X, y, test_size=0.2, random_state=42)\n",
    "\n",
    "tokenizer = Tokenizer(num_words=10000)\n",
    "tokenizer.fit_on_texts(X_train)\n",
    "X_train_seq = tokenizer.texts_to_sequences(X_train)\n",
    "X_test_seq = tokenizer.texts_to_sequences(X_test)"
   ]
  },
  {
   "cell_type": "code",
   "execution_count": null,
   "metadata": {},
   "outputs": [],
   "source": [
    "maxlen = 100\n",
    "X_train_pad = pad_sequences(X_train_seq, maxlen=maxlen, padding='post')\n",
    "X_test_pad = pad_sequences(X_test_seq, maxlen=maxlen, padding='post')"
   ]
  },
  {
   "cell_type": "markdown",
   "metadata": {},
   "source": [
    "Set the LSTM model:\n"
   ]
  },
  {
   "cell_type": "code",
   "execution_count": null,
   "metadata": {},
   "outputs": [
    {
     "name": "stderr",
     "output_type": "stream",
     "text": [
      "/opt/anaconda3/envs/nlp_env/lib/python3.12/site-packages/keras/src/layers/core/embedding.py:90: UserWarning: Argument `input_length` is deprecated. Just remove it.\n",
      "  warnings.warn(\n"
     ]
    }
   ],
   "source": [
    "model = Sequential()\n",
    "model.add(Embedding(input_dim=10000, output_dim=128))\n",
    "model.add(Bidirectional(LSTM(64, return_sequences=False)))\n",
    "model.add(Dropout(0.5))\n",
    "model.add(Dense(64, activation='relu'))\n",
    "model.add(Dropout(0.5))\n",
    "model.add(Dense(1, activation='sigmoid'))\n",
    "\n",
    "model.compile(optimizer=Adam(learning_rate=0.001), loss='binary_crossentropy', metrics=['accuracy'])"
   ]
  },
  {
   "cell_type": "code",
   "execution_count": null,
   "metadata": {},
   "outputs": [
    {
     "name": "stdout",
     "output_type": "stream",
     "text": [
      "Epoch 1/10\n",
      "\u001b[1m127/127\u001b[0m \u001b[32m━━━━━━━━━━━━━━━━━━━━\u001b[0m\u001b[37m\u001b[0m \u001b[1m7s\u001b[0m 46ms/step - accuracy: 0.6254 - loss: 0.6537 - val_accuracy: 0.8075 - val_loss: 0.4199\n",
      "Epoch 2/10\n",
      "\u001b[1m127/127\u001b[0m \u001b[32m━━━━━━━━━━━━━━━━━━━━\u001b[0m\u001b[37m\u001b[0m \u001b[1m9s\u001b[0m 69ms/step - accuracy: 0.8828 - loss: 0.2993 - val_accuracy: 0.8450 - val_loss: 0.3740\n",
      "Epoch 3/10\n",
      "\u001b[1m127/127\u001b[0m \u001b[32m━━━━━━━━━━━━━━━━━━━━\u001b[0m\u001b[37m\u001b[0m \u001b[1m8s\u001b[0m 67ms/step - accuracy: 0.9622 - loss: 0.1011 - val_accuracy: 0.8648 - val_loss: 0.4293\n",
      "Epoch 4/10\n",
      "\u001b[1m127/127\u001b[0m \u001b[32m━━━━━━━━━━━━━━━━━━━━\u001b[0m\u001b[37m\u001b[0m \u001b[1m8s\u001b[0m 65ms/step - accuracy: 0.9901 - loss: 0.0364 - val_accuracy: 0.8648 - val_loss: 0.5667\n",
      "Epoch 5/10\n",
      "\u001b[1m127/127\u001b[0m \u001b[32m━━━━━━━━━━━━━━━━━━━━\u001b[0m\u001b[37m\u001b[0m \u001b[1m9s\u001b[0m 69ms/step - accuracy: 0.9949 - loss: 0.0135 - val_accuracy: 0.8539 - val_loss: 0.7222\n",
      "Epoch 6/10\n",
      "\u001b[1m127/127\u001b[0m \u001b[32m━━━━━━━━━━━━━━━━━━━━\u001b[0m\u001b[37m\u001b[0m \u001b[1m9s\u001b[0m 73ms/step - accuracy: 0.9977 - loss: 0.0062 - val_accuracy: 0.8450 - val_loss: 0.9119\n",
      "Epoch 7/10\n",
      "\u001b[1m127/127\u001b[0m \u001b[32m━━━━━━━━━━━━━━━━━━━━\u001b[0m\u001b[37m\u001b[0m \u001b[1m9s\u001b[0m 68ms/step - accuracy: 0.9975 - loss: 0.0079 - val_accuracy: 0.8490 - val_loss: 0.9713\n",
      "Epoch 8/10\n",
      "\u001b[1m127/127\u001b[0m \u001b[32m━━━━━━━━━━━━━━━━━━━━\u001b[0m\u001b[37m\u001b[0m \u001b[1m9s\u001b[0m 70ms/step - accuracy: 0.9962 - loss: 0.0135 - val_accuracy: 0.8351 - val_loss: 0.7797\n",
      "Epoch 9/10\n",
      "\u001b[1m127/127\u001b[0m \u001b[32m━━━━━━━━━━━━━━━━━━━━\u001b[0m\u001b[37m\u001b[0m \u001b[1m9s\u001b[0m 70ms/step - accuracy: 0.9908 - loss: 0.0283 - val_accuracy: 0.8361 - val_loss: 0.8583\n",
      "Epoch 10/10\n",
      "\u001b[1m127/127\u001b[0m \u001b[32m━━━━━━━━━━━━━━━━━━━━\u001b[0m\u001b[37m\u001b[0m \u001b[1m8s\u001b[0m 66ms/step - accuracy: 0.9920 - loss: 0.0170 - val_accuracy: 0.8460 - val_loss: 0.8406\n",
      "\u001b[1m40/40\u001b[0m \u001b[32m━━━━━━━━━━━━━━━━━━━━\u001b[0m\u001b[37m\u001b[0m \u001b[1m1s\u001b[0m 12ms/step\n"
     ]
    }
   ],
   "source": [
    "history = model.fit(X_train_pad, y_train_lstm, epochs=10, batch_size=32, validation_split=0.2, verbose=1)\n",
    "\n",
    "y_pred_lstm = (model.predict(X_test_pad) > 0.5).astype(\"int32\")"
   ]
  },
  {
   "cell_type": "code",
   "execution_count": 68,
   "metadata": {},
   "outputs": [
    {
     "name": "stdout",
     "output_type": "stream",
     "text": [
      "Classification Report: LSTM Neural Network\n",
      "              precision    recall  f1-score   support\n",
      "\n",
      "           0       0.84      0.77      0.80       484\n",
      "           1       0.86      0.91      0.89       783\n",
      "\n",
      "    accuracy                           0.86      1267\n",
      "   macro avg       0.85      0.84      0.84      1267\n",
      "weighted avg       0.86      0.86      0.85      1267\n",
      "\n",
      "\n",
      "Confusion Matrix: LSTM Neural Network\n",
      "[[371 113]\n",
      " [ 69 714]]\n"
     ]
    }
   ],
   "source": [
    "print(\"Classification Report: LSTM Neural Network\")\n",
    "print(classification_report(y_test_lstm, y_pred_lstm))\n",
    "print(\"\\nConfusion Matrix: LSTM Neural Network\")\n",
    "print(confusion_matrix(y_test_lstm, y_pred_lstm))"
   ]
  },
  {
   "cell_type": "markdown",
   "metadata": {},
   "source": [
    "#### Evaluation\n"
   ]
  },
  {
   "cell_type": "code",
   "execution_count": null,
   "metadata": {},
   "outputs": [
    {
     "name": "stdout",
     "output_type": "stream",
     "text": [
      "                Metric  Random Forest  LSTM Neural Network\n",
      "0             Accuracy       0.840568             0.856354\n",
      "1  Precision (Class 0)       0.821918             0.843182\n",
      "2     Recall (Class 0)       0.743802             0.766529\n",
      "3   F1-Score (Class 0)       0.780911             0.803030\n",
      "4  Precision (Class 1)       0.850422             0.863362\n",
      "5     Recall (Class 1)       0.900383             0.911877\n",
      "6   F1-Score (Class 1)       0.874690             0.886957\n"
     ]
    }
   ],
   "source": [
    "rf_classification_report = classification_report(y_test_rf, y_pred_rf, output_dict=True)\n",
    "lstm_classification_report = classification_report(y_test_lstm, y_pred_lstm, output_dict=True)\n",
    "\n",
    "metrics_df = pd.DataFrame({\n",
    "    \"Metric\": [\"Accuracy\", \"Precision (Class 0)\", \"Recall (Class 0)\", \"F1-Score (Class 0)\",\n",
    "               \"Precision (Class 1)\", \"Recall (Class 1)\", \"F1-Score (Class 1)\"],\n",
    "    \"Random Forest\": [\n",
    "        rf_classification_report[\"accuracy\"],\n",
    "        rf_classification_report[\"0\"][\"precision\"],\n",
    "        rf_classification_report[\"0\"][\"recall\"],\n",
    "        rf_classification_report[\"0\"][\"f1-score\"],\n",
    "        rf_classification_report[\"1\"][\"precision\"],\n",
    "        rf_classification_report[\"1\"][\"recall\"],\n",
    "        rf_classification_report[\"1\"][\"f1-score\"]\n",
    "    ],\n",
    "    \"LSTM Neural Network\": [\n",
    "        lstm_classification_report[\"accuracy\"],\n",
    "        lstm_classification_report[\"0\"][\"precision\"],\n",
    "        lstm_classification_report[\"0\"][\"recall\"],\n",
    "        lstm_classification_report[\"0\"][\"f1-score\"],\n",
    "        lstm_classification_report[\"1\"][\"precision\"],\n",
    "        lstm_classification_report[\"1\"][\"recall\"],\n",
    "        lstm_classification_report[\"1\"][\"f1-score\"]\n",
    "    ]\n",
    "})\n",
    "\n",
    "print(metrics_df)"
   ]
  },
  {
   "cell_type": "code",
   "execution_count": null,
   "metadata": {},
   "outputs": [
    {
     "name": "stdout",
     "output_type": "stream",
     "text": [
      "Confusion Matrix - Random Forest:\n",
      "          Predicted 0  Predicted 1\n",
      "Actual 0          360          124\n",
      "Actual 1           78          705\n",
      "\n",
      "Confusion Matrix - LSTM Neural Network:\n",
      "          Predicted 0  Predicted 1\n",
      "Actual 0          371          113\n",
      "Actual 1           69          714\n"
     ]
    }
   ],
   "source": [
    "confusion_rf = confusion_matrix(y_test_rf, y_pred_rf)\n",
    "confusion_lstm = confusion_matrix(y_test_lstm, y_pred_lstm)\n",
    "\n",
    "confusion_rf_df = pd.DataFrame(confusion_rf, columns=[\"Predicted 0\", \"Predicted 1\"], index=[\"Actual 0\", \"Actual 1\"])\n",
    "confusion_lstm_df = pd.DataFrame(confusion_lstm, columns=[\"Predicted 0\", \"Predicted 1\"], index=[\"Actual 0\", \"Actual 1\"])\n",
    "\n",
    "print(\"Confusion Matrix - Random Forest:\")\n",
    "print(confusion_rf_df)\n",
    "print(\"\\nConfusion Matrix - LSTM Neural Network:\")\n",
    "print(confusion_lstm_df)\n"
   ]
  },
  {
   "cell_type": "markdown",
   "metadata": {},
   "source": [
    "<h2>Evaluations and Results</h2>\n",
    "<ol style=\"font-size: 18px;\">\n",
    "    <li>Random Forest\n",
    "        <ol style=\"list-style-type: lower-alpha; font-size: 16px;\">\n",
    "            <li>Advantages:\n",
    "                <ol style=\"list-style-type: lower-roman; font-size: 14px;\">\n",
    "                    <li>Simpler and faster to train</li>\n",
    "                    <li>Good recall and F1-score for the class 1 (“positive”) (90.04% and 87.47% respectively)</li>\n",
    "                </ol>\n",
    "            </li>\n",
    "            <li>Disadvantages:\n",
    "                <ol style=\"list-style-type: lower-roman; font-size: 14px;\">\n",
    "                    <li>Lower recall for the negative class (74.38%)</li>\n",
    "                    <li>Struggles a bit with the imbalances of the classes</li>\n",
    "                </ol>\n",
    "            </li>\n",
    "        </ol>\n",
    "    </li>\n",
    "    <li>LSTM Neural Networks\n",
    "        <ol style=\"list-style-type: lower-alpha; font-size: 16px;\">\n",
    "            <li>Advantages:\n",
    "                <ol style=\"list-style-type: lower-roman; font-size: 14px;\">\n",
    "                    <li>Better accuracy (85.63%) compared to Random Forest</li>\n",
    "                    <li>Performs better with the recall and F1-score for both classes</li>\n",
    "                </ol>\n",
    "            </li>\n",
    "            <li>Disadvantages:\n",
    "                <ol style=\"list-style-type: lower-roman; font-size: 14px;\">\n",
    "                    <li>Needs more computational power than Random Forest</li>\n",
    "                    <li>More time to train and do the hyperparameter tuning step</li>\n",
    "                </ol>\n",
    "            </li>\n",
    "        </ol>\n",
    "    </li>\n",
    "</ol>\n"
   ]
  },
  {
   "cell_type": "markdown",
   "metadata": {},
   "source": [
    "<h3>Conclusions and Recommendations</h3>\n",
    "<ol style=\"font-size: 18px;\">\n",
    "    <li>Conclusions:\n",
    "        <ol style=\"list-style-type: lower-alpha; font-size: 16px;\">\n",
    "            <li>Random Forest is a good machine learning model to take as a start point of possible future experiments.</li>\n",
    "            <li>LSTM Neural Networks. A deep learning model that handles sequential data very well. Is more complex than Random Forest.</li>\n",
    "            <li>Obtained a high accuracy for both models. LSTM had slightly better metrics than Random Forest.</li>\n",
    "            <li>Is important to mention that, this comments data are written by people, it may contain grammatical errors, punctiation errors, typos, etc. So a better cleaning and pre processing text could lead to better performance</li>\n",
    "        </ol>\n",
    "    </li>\n",
    "    <li>Limitations:\n",
    "        <ol style=\"list-style-type: lower-alpha; font-size: 16px;\">\n",
    "            <li>Despite having class imbalance, SMOTE techniques were applied to handle it, but the recall for the class negative is still low.</li>\n",
    "            <li>As the neutral class was dropped, the dataset size might be a limitation for the LSTM model to use the full potential for detecting complex relationships.</li>\n",
    "            <li>Computing costs might represent a limitation cause deep learning models require more computational power and processing time.</li>\n",
    "        </ol>\n",
    "    </li>\n",
    "    <li>Recommendations:\n",
    "        <ol style=\"list-style-type: lower-alpha; font-size: 16px;\">\n",
    "            <li>Collect more data to improve model metrics and think about evaluating “sentiments” such as: happy, sad, angry.</li>\n",
    "            <li>Use others pre-trained models to get different labels and evaluate which one performs better in the evaluation step, after modelling. </li>\n",
    "            <li>Try to include transformer-based models like BERT or DistilBERT for labelling if the resources are enough.</li>\n",
    "            <li>Use some embedding tools like GloVe or Word2Vec to enhance semantic representation in the LSTM Neural Network model.</li>\n",
    "            <li>Try less complex machine learning models and more complex deep learning architecutres. A hyper-parameter tunning step would help to increase performance</li>\n",
    "        </ol>\n",
    "    </li>\n",
    "</ol>\n"
   ]
  }
 ],
 "metadata": {
  "kernelspec": {
   "display_name": "nlp_env",
   "language": "python",
   "name": "python3"
  },
  "language_info": {
   "codemirror_mode": {
    "name": "ipython",
    "version": 3
   },
   "file_extension": ".py",
   "mimetype": "text/x-python",
   "name": "python",
   "nbconvert_exporter": "python",
   "pygments_lexer": "ipython3",
   "version": "3.12.7"
  }
 },
 "nbformat": 4,
 "nbformat_minor": 2
}
